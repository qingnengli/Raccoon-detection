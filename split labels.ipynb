{
 "cells": [
  {
   "cell_type": "code",
   "execution_count": 1,
   "metadata": {},
   "outputs": [],
   "source": [
    "import numpy as np\n",
    "import pandas as pd\n",
    "np.random.seed(1)"
   ]
  },
  {
   "cell_type": "code",
   "execution_count": 2,
   "metadata": {},
   "outputs": [],
   "source": [
    "full_labels = pd.read_csv('data/raccoon_labels.csv')"
   ]
  },
  {
   "cell_type": "code",
   "execution_count": 3,
   "metadata": {},
   "outputs": [
    {
     "data": {
      "text/html": [
       "<div>\n",
       "<style scoped>\n",
       "    .dataframe tbody tr th:only-of-type {\n",
       "        vertical-align: middle;\n",
       "    }\n",
       "\n",
       "    .dataframe tbody tr th {\n",
       "        vertical-align: top;\n",
       "    }\n",
       "\n",
       "    .dataframe thead th {\n",
       "        text-align: right;\n",
       "    }\n",
       "</style>\n",
       "<table border=\"1\" class=\"dataframe\">\n",
       "  <thead>\n",
       "    <tr style=\"text-align: right;\">\n",
       "      <th></th>\n",
       "      <th>filename</th>\n",
       "      <th>width</th>\n",
       "      <th>height</th>\n",
       "      <th>class</th>\n",
       "      <th>xmin</th>\n",
       "      <th>ymin</th>\n",
       "      <th>xmax</th>\n",
       "      <th>ymax</th>\n",
       "    </tr>\n",
       "  </thead>\n",
       "  <tbody>\n",
       "    <tr>\n",
       "      <th>0</th>\n",
       "      <td>raccoon-1.jpg</td>\n",
       "      <td>650</td>\n",
       "      <td>417</td>\n",
       "      <td>raccoon</td>\n",
       "      <td>81</td>\n",
       "      <td>88</td>\n",
       "      <td>522</td>\n",
       "      <td>408</td>\n",
       "    </tr>\n",
       "    <tr>\n",
       "      <th>1</th>\n",
       "      <td>raccoon-10.jpg</td>\n",
       "      <td>450</td>\n",
       "      <td>495</td>\n",
       "      <td>raccoon</td>\n",
       "      <td>130</td>\n",
       "      <td>2</td>\n",
       "      <td>446</td>\n",
       "      <td>488</td>\n",
       "    </tr>\n",
       "    <tr>\n",
       "      <th>2</th>\n",
       "      <td>raccoon-100.jpg</td>\n",
       "      <td>960</td>\n",
       "      <td>576</td>\n",
       "      <td>raccoon</td>\n",
       "      <td>548</td>\n",
       "      <td>10</td>\n",
       "      <td>954</td>\n",
       "      <td>520</td>\n",
       "    </tr>\n",
       "    <tr>\n",
       "      <th>3</th>\n",
       "      <td>raccoon-101.jpg</td>\n",
       "      <td>640</td>\n",
       "      <td>426</td>\n",
       "      <td>raccoon</td>\n",
       "      <td>86</td>\n",
       "      <td>53</td>\n",
       "      <td>400</td>\n",
       "      <td>356</td>\n",
       "    </tr>\n",
       "    <tr>\n",
       "      <th>4</th>\n",
       "      <td>raccoon-102.jpg</td>\n",
       "      <td>259</td>\n",
       "      <td>194</td>\n",
       "      <td>raccoon</td>\n",
       "      <td>1</td>\n",
       "      <td>1</td>\n",
       "      <td>118</td>\n",
       "      <td>152</td>\n",
       "    </tr>\n",
       "  </tbody>\n",
       "</table>\n",
       "</div>"
      ],
      "text/plain": [
       "          filename  width  height    class  xmin  ymin  xmax  ymax\n",
       "0    raccoon-1.jpg    650     417  raccoon    81    88   522   408\n",
       "1   raccoon-10.jpg    450     495  raccoon   130     2   446   488\n",
       "2  raccoon-100.jpg    960     576  raccoon   548    10   954   520\n",
       "3  raccoon-101.jpg    640     426  raccoon    86    53   400   356\n",
       "4  raccoon-102.jpg    259     194  raccoon     1     1   118   152"
      ]
     },
     "execution_count": 3,
     "metadata": {},
     "output_type": "execute_result"
    }
   ],
   "source": [
    "full_labels.head()"
   ]
  },
  {
   "cell_type": "code",
   "execution_count": 5,
   "metadata": {},
   "outputs": [],
   "source": [
    "grouped = full_labels.groupby('filename')"
   ]
  },
  {
   "cell_type": "code",
   "execution_count": 6,
   "metadata": {},
   "outputs": [
    {
     "data": {
      "text/plain": [
       "1    184\n",
       "2     15\n",
       "3      1\n",
       "dtype: int64"
      ]
     },
     "execution_count": 6,
     "metadata": {},
     "output_type": "execute_result"
    }
   ],
   "source": [
    "grouped.apply(lambda x: len(x)).value_counts()"
   ]
  },
  {
   "cell_type": "markdown",
   "metadata": {},
   "source": [
    "### split each file into a group in a list"
   ]
  },
  {
   "cell_type": "code",
   "execution_count": 16,
   "metadata": {},
   "outputs": [
    {
     "name": "stdout",
     "output_type": "stream",
     "text": [
      "<pandas.core.groupby.groupby.DataFrameGroupBy object at 0x7fbb55f72550>\n"
     ]
    }
   ],
   "source": [
    "gb = full_labels.groupby('filename')"
   ]
  },
  {
   "cell_type": "code",
   "execution_count": 15,
   "metadata": {},
   "outputs": [
    {
     "name": "stdout",
     "output_type": "stream",
     "text": [
      "[           filename  width  height    class  xmin  ymin  xmax  ymax\n",
      "203  raccoon-87.jpg    256     197  raccoon     1     3   206   191,            filename  width  height    class  xmin  ymin  xmax  ymax\n",
      "47  raccoon-137.jpg    320     240  raccoon    71     8   304   233,            filename  width  height    class  xmin  ymin  xmax  ymax\n",
      "98  raccoon-179.jpg    600     450  raccoon     1   176   270   427,           filename  width  height    class  xmin  ymin  xmax  ymax\n",
      "12  raccoon-11.jpg    660     432  raccoon     3     1   461   431,            filename  width  height    class  xmin  ymin  xmax  ymax\n",
      "200  raccoon-84.jpg    303     166  raccoon    31     6   197   163,            filename  width  height    class  xmin  ymin  xmax  ymax\n",
      "208  raccoon-91.jpg    236     314  raccoon    22    14   216   308,            filename  width  height    class  xmin  ymin  xmax  ymax\n",
      "155  raccoon-47.jpg    262     193  raccoon    34     4   233   193,           filename  width  height    class  xmin  ymin  xmax  ymax\n",
      "63  raccoon-15.jpg    640     360  raccoon   313    61   614   360,            filename  width  height    class  xmin  ymin  xmax  ymax\n",
      "62  raccoon-149.jpg    500     375  raccoon   132    50   305   246,            filename  width  height    class  xmin  ymin  xmax  ymax\n",
      "58  raccoon-146.jpg    275     183  raccoon     4     4   271   180,            filename  width  height    class  xmin  ymin  xmax  ymax\n",
      "77  raccoon-162.jpg    259     194  raccoon    45    34   161   184,           filename  width  height    class  xmin  ymin  xmax  ymax\n",
      "86  raccoon-17.jpg    259     194  raccoon    95    60   167   118,           filename  width  height    class  xmin  ymin  xmax  ymax\n",
      "4  raccoon-102.jpg    259     194  raccoon     1     1   118   152,            filename  width  height    class  xmin  ymin  xmax  ymax\n",
      "186  raccoon-72.jpg    560     420  raccoon   219   195   446   375\n",
      "187  raccoon-72.jpg    560     420  raccoon    98    34   284   336,            filename  width  height    class  xmin  ymin  xmax  ymax\n",
      "41  raccoon-131.jpg    259     194  raccoon     1     1   199   184,            filename  width  height    class  xmin  ymin  xmax  ymax\n",
      "82  raccoon-167.jpg    259     195  raccoon     1     5   175   195,            filename  width  height    class  xmin  ymin  xmax  ymax\n",
      "143  raccoon-36.jpg    640     428  raccoon   113    27   468   428,            filename  width  height    class  xmin  ymin  xmax  ymax\n",
      "166  raccoon-56.jpg    240     210  raccoon    20     6   224   201,            filename  width  height    class  xmin  ymin  xmax  ymax\n",
      "46  raccoon-136.jpg    256     197  raccoon    51    24   198   192,            filename  width  height    class  xmin  ymin  xmax  ymax\n",
      "31  raccoon-123.jpg    640     406  raccoon   280    42   550   392,            filename  width  height    class  xmin  ymin  xmax  ymax\n",
      "35  raccoon-127.jpg    253     199  raccoon   125    59   212   165,             filename  width  height    class  xmin  ymin  xmax  ymax\n",
      "117  raccoon-196.jpg    233     216  raccoon    83    87   211   211,            filename  width  height    class  xmin  ymin  xmax  ymax\n",
      "52  raccoon-141.jpg    249     202  raccoon     1     1   154   176,            filename  width  height    class  xmin  ymin  xmax  ymax\n",
      "49  raccoon-139.jpg    259     194  raccoon    20     6   177   167,             filename  width  height    class  xmin  ymin  xmax  ymax\n",
      "116  raccoon-195.jpg    225     225  raccoon    25   111   197   225,            filename  width  height    class  xmin  ymin  xmax  ymax\n",
      "191  raccoon-76.jpg    225     225  raccoon    14     1   212   132,            filename  width  height    class  xmin  ymin  xmax  ymax\n",
      "149  raccoon-41.jpg    700     500  raccoon   211    78   530   468,            filename  width  height    class  xmin  ymin  xmax  ymax\n",
      "11  raccoon-109.jpg    192     259  raccoon     9     1   177   252,            filename  width  height    class  xmin  ymin  xmax  ymax\n",
      "198  raccoon-82.jpg    750     500  raccoon     6     1   632   500,            filename  width  height    class  xmin  ymin  xmax  ymax\n",
      "139  raccoon-32.jpg    625     415  raccoon    88    92   473   328,            filename  width  height    class  xmin  ymin  xmax  ymax\n",
      "125  raccoon-21.jpg    290     174  raccoon    59     2   216   171,             filename  width  height    class  xmin  ymin  xmax  ymax\n",
      "113  raccoon-192.jpg    510     325  raccoon   127   160   298   289,             filename  width  height    class  xmin  ymin  xmax  ymax\n",
      "111  raccoon-190.jpg    259     194  raccoon    78    54   153   135,            filename  width  height    class  xmin  ymin  xmax  ymax\n",
      "65  raccoon-151.jpg    225     225  raccoon    42    94   108   224,            filename  width  height    class  xmin  ymin  xmax  ymax\n",
      "88  raccoon-171.jpg    224     225  raccoon   108    21   180   115,            filename  width  height    class  xmin  ymin  xmax  ymax\n",
      "156  raccoon-48.jpg    261     193  raccoon    43    28   240   176,            filename  width  height    class  xmin  ymin  xmax  ymax\n",
      "131  raccoon-26.jpg    306     374  raccoon   114     5   306   337,            filename  width  height    class  xmin  ymin  xmax  ymax\n",
      "178  raccoon-65.jpg    480     360  raccoon   123    27   338   284,            filename  width  height    class  xmin  ymin  xmax  ymax\n",
      "83  raccoon-168.jpg    628     314  raccoon    98    88   374   303\n",
      "84  raccoon-168.jpg    628     314  raccoon   173     1   471   309,            filename  width  height    class  xmin  ymin  xmax  ymax\n",
      "205  raccoon-89.jpg    259     194  raccoon    18     6   225   176,           filename  width  height    class  xmin  ymin  xmax  ymax\n",
      "135  raccoon-3.jpg    720     480  raccoon     1     1   720   476,             filename  width  height    class  xmin  ymin  xmax  ymax\n",
      "102  raccoon-182.jpg    500     500  raccoon    17   122   279   499,            filename  width  height    class  xmin  ymin  xmax  ymax\n",
      "91  raccoon-174.jpg    960     639  raccoon   125    43   588   527,            filename  width  height    class  xmin  ymin  xmax  ymax\n",
      "134  raccoon-29.jpg    275     183  raccoon    70     6   219   179,            filename  width  height    class  xmin  ymin  xmax  ymax\n",
      "185  raccoon-71.jpg    640     426  raccoon   129    51   628   373,             filename  width  height    class  xmin  ymin  xmax  ymax\n",
      "121  raccoon-199.jpg    640     428  raccoon    28    64   530   402,            filename  width  height    class  xmin  ymin  xmax  ymax\n",
      "160  raccoon-51.jpg    800     599  raccoon   315   105   772   540,            filename  width  height    class  xmin  ymin  xmax  ymax\n",
      "32  raccoon-124.jpg    259     194  raccoon    17    39   239   147,           filename  width  height    class  xmin  ymin  xmax  ymax\n",
      "2  raccoon-100.jpg    960     576  raccoon   548    10   954   520,            filename  width  height    class  xmin  ymin  xmax  ymax\n",
      "54  raccoon-143.jpg    259     194  raccoon    17    29   238   162,            filename  width  height    class  xmin  ymin  xmax  ymax\n",
      "184  raccoon-70.jpg    500     375  raccoon    60     4   421   369,            filename  width  height    class  xmin  ymin  xmax  ymax\n",
      "28  raccoon-120.jpg    660     371  raccoon   129    12   510   331,            filename  width  height    class  xmin  ymin  xmax  ymax\n",
      "141  raccoon-34.jpg    259     194  raccoon     1     2   227   194,            filename  width  height    class  xmin  ymin  xmax  ymax\n",
      "90  raccoon-173.jpg    550     388  raccoon   202    21   515   387,            filename  width  height    class  xmin  ymin  xmax  ymax\n",
      "51  raccoon-140.jpg    204     247  raccoon     6    17   202   231,            filename  width  height    class  xmin  ymin  xmax  ymax\n",
      "168  raccoon-58.jpg    224     225  raccoon     2     1   199   221,            filename  width  height    class  xmin  ymin  xmax  ymax\n",
      "192  raccoon-77.jpg    640     360  raccoon   161     1   627   330,            filename  width  height    class  xmin  ymin  xmax  ymax\n",
      "201  raccoon-85.jpg    620     465  raccoon   236    87   598   429,            filename  width  height    class  xmin  ymin  xmax  ymax\n",
      "72  raccoon-158.jpg    275     183  raccoon    23    23   262   177,            filename  width  height    class  xmin  ymin  xmax  ymax\n",
      "182  raccoon-69.jpg    205     246  raccoon    12    11   188   240,            filename  width  height    class  xmin  ymin  xmax  ymax\n",
      "79  raccoon-164.jpg    274     184  raccoon    10    27   178   184,           filename  width  height    class  xmin  ymin  xmax  ymax\n",
      "38  raccoon-13.jpg    660     495  raccoon    55    28   393   313,           filename  width  height    class  xmin  ymin  xmax  ymax\n",
      "158  raccoon-5.jpg    270     187  raccoon     3     3   260   179,            filename  width  height    class  xmin  ymin  xmax  ymax\n",
      "20  raccoon-117.jpg    640     448  raccoon   100   124   266   324\n",
      "21  raccoon-117.jpg    640     448  raccoon   342   101   570   297,            filename  width  height    class  xmin  ymin  xmax  ymax\n",
      "60  raccoon-148.jpg    500     375  raccoon    32   177   174   316\n",
      "61  raccoon-148.jpg    500     375  raccoon   309   172   428   315,            filename  width  height    class  xmin  ymin  xmax  ymax\n",
      "159  raccoon-50.jpg    275     183  raccoon    36     2   174   172,            filename  width  height    class  xmin  ymin  xmax  ymax\n",
      "179  raccoon-66.jpg    860     484  raccoon   220    37   697   440,            filename  width  height    class  xmin  ymin  xmax  ymax\n",
      "13  raccoon-110.jpg    184     274  raccoon    23     2   166   262,            filename  width  height    class  xmin  ymin  xmax  ymax\n",
      "73  raccoon-159.jpg    226     223  raccoon    14    11   223   221,           filename  width  height    class  xmin  ymin  xmax  ymax\n",
      "122  raccoon-2.jpg    800     573  raccoon    60    51   462   499,            filename  width  height    class  xmin  ymin  xmax  ymax\n",
      "15  raccoon-112.jpg    800     574  raccoon   131   174   775   563,             filename  width  height    class  xmin  ymin  xmax  ymax\n",
      "103  raccoon-183.jpg   2000    1333  raccoon   358    21  1354  1119,            filename  width  height    class  xmin  ymin  xmax  ymax\n",
      "55  raccoon-144.jpg    570     390  raccoon   117    42   387   390,            filename  width  height    class  xmin  ymin  xmax  ymax\n",
      "130  raccoon-25.jpg    634     641  raccoon    31    82   325   641,            filename  width  height    class  xmin  ymin  xmax  ymax\n",
      "211  raccoon-94.jpg    700     467  raccoon   155    10   543   445,            filename  width  height    class  xmin  ymin  xmax  ymax\n",
      "110  raccoon-19.jpg    259     194  raccoon    87     8   182    89,             filename  width  height    class  xmin  ymin  xmax  ymax\n",
      "119  raccoon-198.jpg    259     194  raccoon    57    21   158   184\n",
      "120  raccoon-198.jpg    259     194  raccoon   112    32   199   158,            filename  width  height    class  xmin  ymin  xmax  ymax\n",
      "56  raccoon-145.jpg    600     450  raccoon     3    36   345   450\n",
      "57  raccoon-145.jpg    600     450  raccoon   260    41   569   449,            filename  width  height    class  xmin  ymin  xmax  ymax\n",
      "34  raccoon-126.jpg    255     197  raccoon     5     5   246   192,            filename  width  height    class  xmin  ymin  xmax  ymax\n",
      "87  raccoon-170.jpg    259     194  raccoon    53    27   254   173,             filename  width  height    class  xmin  ymin  xmax  ymax\n",
      "100  raccoon-180.jpg    600     400  raccoon   119    21   368   399,           filename  width  height    class  xmin  ymin  xmax  ymax\n",
      "9  raccoon-107.jpg    500     622  raccoon   165    51   496   590,            filename  width  height    class  xmin  ymin  xmax  ymax\n",
      "43  raccoon-133.jpg    490     640  raccoon     8     6   476   631,            filename  width  height    class  xmin  ymin  xmax  ymax\n",
      "39  raccoon-130.jpg    640     426  raccoon   223    62   497   307\n",
      "40  raccoon-130.jpg    640     426  raccoon   453    41   640   423,            filename  width  height    class  xmin  ymin  xmax  ymax\n",
      "37  raccoon-129.jpg    639     315  raccoon   142    24   442   276,           filename  width  height    class  xmin  ymin  xmax  ymax\n",
      "170  raccoon-6.jpg    480     360  raccoon     1    44   307   316,            filename  width  height    class  xmin  ymin  xmax  ymax\n",
      "215  raccoon-98.jpg    480     360  raccoon   108    31   351   308,             filename  width  height    class  xmin  ymin  xmax  ymax\n",
      "107  raccoon-187.jpg    362     357  raccoon   161   112   292   276,            filename  width  height    class  xmin  ymin  xmax  ymax\n",
      "29  raccoon-121.jpg    600     399  raccoon    55    34   416   377,         filename  width  height    class  xmin  ymin  xmax  ymax\n",
      "0  raccoon-1.jpg    650     417  raccoon    81    88   522   408,            filename  width  height    class  xmin  ymin  xmax  ymax\n",
      "193  raccoon-78.jpg    223     226  raccoon    28    15   221   216,            filename  width  height    class  xmin  ymin  xmax  ymax\n",
      "137  raccoon-31.jpg    236     214  raccoon    82    21   187   197\n",
      "138  raccoon-31.jpg    236     214  raccoon    11    55    80   145,             filename  width  height    class  xmin  ymin  xmax  ymax\n",
      "108  raccoon-188.jpg    460     379  raccoon    26    71   366   334,            filename  width  height    class  xmin  ymin  xmax  ymax\n",
      "207  raccoon-90.jpg    640     426  raccoon    44    90   577   426,           filename  width  height    class  xmin  ymin  xmax  ymax\n",
      "206  raccoon-9.jpg    347     510  raccoon    10     7   347   471,            filename  width  height    class  xmin  ymin  xmax  ymax\n",
      "30  raccoon-122.jpg    178     283  raccoon     7     7   174   198,            filename  width  height    class  xmin  ymin  xmax  ymax\n",
      "145  raccoon-38.jpg    259     194  raccoon     7    17   257   180,            filename  width  height    class  xmin  ymin  xmax  ymax\n",
      "151  raccoon-43.jpg    480     360  raccoon     1    65   239   316,            filename  width  height    class  xmin  ymin  xmax  ymax\n",
      "44  raccoon-134.jpg    225     225  raccoon   125    87   194   169,            filename  width  height    class  xmin  ymin  xmax  ymax\n",
      "85  raccoon-169.jpg    615     409  raccoon   194     1   549   409,            filename  width  height    class  xmin  ymin  xmax  ymax\n",
      "177  raccoon-64.jpg    259     194  raccoon     1     1   247   194,            filename  width  height    class  xmin  ymin  xmax  ymax\n",
      "190  raccoon-75.jpg    640     640  raccoon     1     1   640   459,            filename  width  height    class  xmin  ymin  xmax  ymax\n",
      "67  raccoon-153.jpg    700     700  raccoon    10     1   612   700,          filename  width  height    class  xmin  ymin  xmax  ymax\n",
      "1  raccoon-10.jpg    450     495  raccoon   130     2   446   488,            filename  width  height    class  xmin  ymin  xmax  ymax\n",
      "154  raccoon-46.jpg    576     318  raccoon   145     2   423   318,            filename  width  height    class  xmin  ymin  xmax  ymax\n",
      "81  raccoon-166.jpg    328     154  raccoon   108    31   208   120,            filename  width  height    class  xmin  ymin  xmax  ymax\n",
      "66  raccoon-152.jpg    275     183  raccoon    41    60   223   155,            filename  width  height    class  xmin  ymin  xmax  ymax\n",
      "45  raccoon-135.jpg    640     426  raccoon    99     8   605   404,           filename  width  height    class  xmin  ymin  xmax  ymax\n",
      "7  raccoon-105.jpg    720     960  raccoon   250    49   714   869,            filename  width  height    class  xmin  ymin  xmax  ymax\n",
      "22  raccoon-118.jpg    448     297  raccoon   109    31   307   297,             filename  width  height    class  xmin  ymin  xmax  ymax\n",
      "109  raccoon-189.jpg    600     450  raccoon    19     2   508   438,            filename  width  height    class  xmin  ymin  xmax  ymax\n",
      "93  raccoon-176.jpg    800     533  raccoon   308    90   611   426\n",
      "94  raccoon-176.jpg    800     533  raccoon   103     1   314   189,             filename  width  height    class  xmin  ymin  xmax  ymax\n",
      "118  raccoon-197.jpg   1280     720  raccoon   114    35   987   653,             filename  width  height    class  xmin  ymin  xmax  ymax\n",
      "101  raccoon-181.jpg    750     422  raccoon   100     1   420   411,            filename  width  height    class  xmin  ymin  xmax  ymax\n",
      "70  raccoon-156.jpg    201     251  raccoon    27    27   139   243,            filename  width  height    class  xmin  ymin  xmax  ymax\n",
      "42  raccoon-132.jpg    259     194  raccoon     6     2   240   131,            filename  width  height    class  xmin  ymin  xmax  ymax\n",
      "216  raccoon-99.jpg    252     228  raccoon    15    40   132   226,            filename  width  height    class  xmin  ymin  xmax  ymax\n",
      "199  raccoon-83.jpg    660     371  raccoon   104     3   509   369,           filename  width  height    class  xmin  ymin  xmax  ymax\n",
      "8  raccoon-106.jpg    269     187  raccoon    31    21   226   146,            filename  width  height    class  xmin  ymin  xmax  ymax\n",
      "146  raccoon-39.jpg    250     172  raccoon    54    12   250   166,            filename  width  height    class  xmin  ymin  xmax  ymax\n",
      "59  raccoon-147.jpg    426     640  raccoon    13     1   426   486,            filename  width  height    class  xmin  ymin  xmax  ymax\n",
      "14  raccoon-111.jpg    768     960  raccoon    41     5   683   917,            filename  width  height    class  xmin  ymin  xmax  ymax\n",
      "127  raccoon-23.jpg    259     194  raccoon   108     1   258   194,            filename  width  height    class  xmin  ymin  xmax  ymax\n",
      "174  raccoon-62.jpg    640     407  raccoon    73    19   632   407,            filename  width  height    class  xmin  ymin  xmax  ymax\n",
      "53  raccoon-142.jpg   1024     768  raccoon   171   162   811   740,            filename  width  height    class  xmin  ymin  xmax  ymax\n",
      "133  raccoon-28.jpg    602     452  raccoon    93    80   601   452,            filename  width  height    class  xmin  ymin  xmax  ymax\n",
      "140  raccoon-33.jpg    602     843  raccoon    89    12   593   843,            filename  width  height    class  xmin  ymin  xmax  ymax\n",
      "92  raccoon-175.jpg    634     381  raccoon    69    89   354   378,           filename  width  height    class  xmin  ymin  xmax  ymax\n",
      "183  raccoon-7.jpg    410     308  raccoon    92    79   271   264,             filename  width  height    class  xmin  ymin  xmax  ymax\n",
      "106  raccoon-186.jpg    640     428  raccoon    34    40   536   387,            filename  width  height    class  xmin  ymin  xmax  ymax\n",
      "194  raccoon-79.jpg    640     425  raccoon   120     1   568   425,            filename  width  height    class  xmin  ymin  xmax  ymax\n",
      "76  raccoon-161.jpg    500     347  raccoon   209    73   385   186,            filename  width  height    class  xmin  ymin  xmax  ymax\n",
      "18  raccoon-115.jpg    426     640  raccoon    51   130   351   556,           filename  width  height    class  xmin  ymin  xmax  ymax\n",
      "5  raccoon-103.jpg    480     640  raccoon    92    54   460   545,            filename  width  height    class  xmin  ymin  xmax  ymax\n",
      "89  raccoon-172.jpg    615     346  raccoon   183    53   399   302,            filename  width  height    class  xmin  ymin  xmax  ymax\n",
      "212  raccoon-95.jpg    320     400  raccoon    50    45   272   289,            filename  width  height    class  xmin  ymin  xmax  ymax\n",
      "132  raccoon-27.jpg    602     401  raccoon    14    38   592   373,            filename  width  height    class  xmin  ymin  xmax  ymax\n",
      "213  raccoon-96.jpg    230     219  raccoon    28    25   203   175,            filename  width  height    class  xmin  ymin  xmax  ymax\n",
      "167  raccoon-57.jpg    640     425  raccoon    82     6   638   423,            filename  width  height    class  xmin  ymin  xmax  ymax\n",
      "64  raccoon-150.jpg    275     183  raccoon    80    62   187   169,            filename  width  height    class  xmin  ymin  xmax  ymax\n",
      "169  raccoon-59.jpg    600     600  raccoon     1     2   449   432,            filename  width  height    class  xmin  ymin  xmax  ymax\n",
      "10  raccoon-108.jpg    604     481  raccoon    99    53   402   464,            filename  width  height    class  xmin  ymin  xmax  ymax\n",
      "48  raccoon-138.jpg    259     194  raccoon    56    54   226   150,            filename  width  height    class  xmin  ymin  xmax  ymax\n",
      "210  raccoon-93.jpg    251     201  raccoon    66    29   233   190,             filename  width  height    class  xmin  ymin  xmax  ymax\n",
      "112  raccoon-191.jpg    634     445  raccoon   100    89   478   331,            filename  width  height    class  xmin  ymin  xmax  ymax\n",
      "153  raccoon-45.jpg    620     372  raccoon   140     6   454   370,           filename  width  height    class  xmin  ymin  xmax  ymax\n",
      "74  raccoon-16.jpg    424     640  raccoon    51   178   355   632,            filename  width  height    class  xmin  ymin  xmax  ymax\n",
      "69  raccoon-155.jpg    259     194  raccoon    46    91   143   169,            filename  width  height    class  xmin  ymin  xmax  ymax\n",
      "162  raccoon-53.jpg    259     194  raccoon    71    45   197   171,            filename  width  height    class  xmin  ymin  xmax  ymax\n",
      "75  raccoon-160.jpg    256     197  raccoon     7    42   162   197,            filename  width  height    class  xmin  ymin  xmax  ymax\n",
      "197  raccoon-81.jpg    600     450  raccoon     4    54   574   410,            filename  width  height    class  xmin  ymin  xmax  ymax\n",
      "16  raccoon-113.jpg    640     480  raccoon     1     1   384   436,            filename  width  height    class  xmin  ymin  xmax  ymax\n",
      "78  raccoon-163.jpg    248     203  raccoon     6     7   240   157,            filename  width  height    class  xmin  ymin  xmax  ymax\n",
      "172  raccoon-61.jpg    274     184  raccoon    94    63   195   148\n",
      "173  raccoon-61.jpg    274     184  raccoon   142    39   213   108,            filename  width  height    class  xmin  ymin  xmax  ymax\n",
      "23  raccoon-119.jpg    400     533  raccoon    16    62   362   353\n",
      "24  raccoon-119.jpg    400     533  raccoon   211   359   277   402\n",
      "25  raccoon-119.jpg    400     533  raccoon   198   392   280   473,             filename  width  height    class  xmin  ymin  xmax  ymax\n",
      "105  raccoon-185.jpg    275     183  raccoon    25     1   200   181,           filename  width  height    class  xmin  ymin  xmax  ymax\n",
      "147  raccoon-4.jpg    275     183  raccoon    21    11   200   183,            filename  width  height    class  xmin  ymin  xmax  ymax\n",
      "196  raccoon-80.jpg    225     225  raccoon    21    27   177   182,            filename  width  height    class  xmin  ymin  xmax  ymax\n",
      "17  raccoon-114.jpg    625     418  raccoon   242    35   523   264,           filename  width  height    class  xmin  ymin  xmax  ymax\n",
      "26  raccoon-12.jpg    259     194  raccoon    28    21   126   181\n",
      "27  raccoon-12.jpg    259     194  raccoon    85    33   235   193,           filename  width  height    class  xmin  ymin  xmax  ymax\n",
      "50  raccoon-14.jpg    900     484  raccoon   163    81   546   438,           filename  width  height    class  xmin  ymin  xmax  ymax\n",
      "6  raccoon-104.jpg    600     304  raccoon   189    41   340   249,             filename  width  height    class  xmin  ymin  xmax  ymax\n",
      "115  raccoon-194.jpg   1080    1080  raccoon     1    63   885  1042,            filename  width  height    class  xmin  ymin  xmax  ymax\n",
      "36  raccoon-128.jpg    259     194  raccoon    76    87   190   148,             filename  width  height    class  xmin  ymin  xmax  ymax\n",
      "124  raccoon-200.jpg    261     193  raccoon   107    10   249   166,            filename  width  height    class  xmin  ymin  xmax  ymax\n",
      "189  raccoon-74.jpg    800     533  raccoon   141     6   472   505,           filename  width  height    class  xmin  ymin  xmax  ymax\n",
      "3  raccoon-101.jpg    640     426  raccoon    86    53   400   356,            filename  width  height    class  xmin  ymin  xmax  ymax\n",
      "136  raccoon-30.jpg    266     190  raccoon    78    25   182   177,            filename  width  height    class  xmin  ymin  xmax  ymax\n",
      "188  raccoon-73.jpg    284     177  raccoon    56    16   274   166,            filename  width  height    class  xmin  ymin  xmax  ymax\n",
      "157  raccoon-49.jpg    640     395  raccoon   162    36   611   395,            filename  width  height    class  xmin  ymin  xmax  ymax\n",
      "204  raccoon-88.jpg    640     480  raccoon   116    41   526   436,            filename  width  height    class  xmin  ymin  xmax  ymax\n",
      "150  raccoon-42.jpg    577    1024  raccoon   121   206   410   767,            filename  width  height    class  xmin  ymin  xmax  ymax\n",
      "164  raccoon-55.jpg    634     417  raccoon     6    49   250   320\n",
      "165  raccoon-55.jpg    634     417  raccoon   274    27   563   410,            filename  width  height    class  xmin  ymin  xmax  ymax\n",
      "68  raccoon-154.jpg    650     419  raccoon   148    56   517   346,            filename  width  height    class  xmin  ymin  xmax  ymax\n",
      "152  raccoon-44.jpg    300     168  raccoon    45    14   247   165,            filename  width  height    class  xmin  ymin  xmax  ymax\n",
      "180  raccoon-67.jpg    272     185  raccoon    18    17   224   168,            filename  width  height    class  xmin  ymin  xmax  ymax\n",
      "128  raccoon-24.jpg    268     188  raccoon    77    48   179   156\n",
      "129  raccoon-24.jpg    268     188  raccoon   139    77   202   145,            filename  width  height    class  xmin  ymin  xmax  ymax\n",
      "214  raccoon-97.jpg    500     393  raccoon     1    32   343   307,            filename  width  height    class  xmin  ymin  xmax  ymax\n",
      "209  raccoon-92.jpg    960     640  raccoon    37    32   729   543,            filename  width  height    class  xmin  ymin  xmax  ymax\n",
      "202  raccoon-86.jpg    600     401  raccoon   129    34   475   401,            filename  width  height    class  xmin  ymin  xmax  ymax\n",
      "148  raccoon-40.jpg    480     360  raccoon   164    53   349   275,            filename  width  height    class  xmin  ymin  xmax  ymax\n",
      "80  raccoon-165.jpg    199     253  raccoon    27    11   194   228,            filename  width  height    class  xmin  ymin  xmax  ymax\n",
      "181  raccoon-68.jpg    640     423  raccoon     1    24   517   423,           filename  width  height    class  xmin  ymin  xmax  ymax\n",
      "99  raccoon-18.jpg    240     156  raccoon    32    25   201   130,            filename  width  height    class  xmin  ymin  xmax  ymax\n",
      "71  raccoon-157.jpg    220     229  raccoon     1     1   144   209,            filename  width  height    class  xmin  ymin  xmax  ymax\n",
      "161  raccoon-52.jpg    800     533  raccoon   105    10   502   501,            filename  width  height    class  xmin  ymin  xmax  ymax\n",
      "171  raccoon-60.jpg    273     185  raccoon    58    33   197   127,            filename  width  height    class  xmin  ymin  xmax  ymax\n",
      "126  raccoon-22.jpg    640     360  raccoon   252    76   466   335,            filename  width  height    class  xmin  ymin  xmax  ymax\n",
      "95  raccoon-177.jpg    276     183  raccoon     8    18   157   178\n",
      "96  raccoon-177.jpg    276     183  raccoon   146    13   263   146,           filename  width  height    class  xmin  ymin  xmax  ymax\n",
      "195  raccoon-8.jpg    259     194  raccoon    16    11   236   175,            filename  width  height    class  xmin  ymin  xmax  ymax\n",
      "123  raccoon-20.jpg    720     540  raccoon     2    29   720   503,            filename  width  height    class  xmin  ymin  xmax  ymax\n",
      "175  raccoon-63.jpg    600     400  raccoon    74   107   280   290\n",
      "176  raccoon-63.jpg    600     400  raccoon   227    93   403   298,            filename  width  height    class  xmin  ymin  xmax  ymax\n",
      "142  raccoon-35.jpg    275     183  raccoon     1     1   164   183,            filename  width  height    class  xmin  ymin  xmax  ymax\n",
      "163  raccoon-54.jpg    602     339  raccoon    78     5   517   333,             filename  width  height    class  xmin  ymin  xmax  ymax\n",
      "114  raccoon-193.jpg    634     852  raccoon    23   215   440   831,            filename  width  height    class  xmin  ymin  xmax  ymax\n",
      "97  raccoon-178.jpg    275     183  raccoon    59    12   242   180,            filename  width  height    class  xmin  ymin  xmax  ymax\n",
      "33  raccoon-125.jpg    259     195  raccoon    13     6   252   190,             filename  width  height    class  xmin  ymin  xmax  ymax\n",
      "104  raccoon-184.jpg    640     640  raccoon    81    77   567   617,            filename  width  height    class  xmin  ymin  xmax  ymax\n",
      "19  raccoon-116.jpg    660     432  raccoon     3     1   436   430,            filename  width  height    class  xmin  ymin  xmax  ymax\n",
      "144  raccoon-37.jpg    520     593  raccoon    13     1   500   592]\n"
     ]
    }
   ],
   "source": [
    "grouped_list = [gb.get_group(x) for x in gb.groups]\n",
    "print grouped_list"
   ]
  },
  {
   "cell_type": "code",
   "execution_count": 8,
   "metadata": {},
   "outputs": [
    {
     "data": {
      "text/plain": [
       "200"
      ]
     },
     "execution_count": 8,
     "metadata": {},
     "output_type": "execute_result"
    }
   ],
   "source": [
    "len(grouped_list)"
   ]
  },
  {
   "cell_type": "code",
   "execution_count": 14,
   "metadata": {},
   "outputs": [
    {
     "name": "stdout",
     "output_type": "stream",
     "text": [
      "[ 65  98 146  25 135 167 132  20  26  88 190   0  53  23  83 119 159 180\n",
      " 116  47 115 107  85  90  13 126   2  94  35   1  72  11 128 137   6 170\n",
      " 192  59 165 188 114  15 182 123 163  34  58 196  49  75 173 152 156  45\n",
      " 171  71 148  41 144  73 113  22 103  66  97  62  84 109 169 112  17 179\n",
      "  60 106  55 186 141  93 154  29  36  89 142 101  32 178 199  70 108  18\n",
      "  92  64 110 177  80  63  54 191   3 129   9 195  43 187 134  51  27 147\n",
      " 111 105  37 127 194 120  69  40   8 166  91 125   5 175 164 122  38 198\n",
      "  82 185 172  67 124  39 183  33 160  21  79  24  44  99  31 149  95 174\n",
      " 162  74 100 143  61 150  96  76 130  12 131  68 155 118   4 193]\n",
      "[  7  10  14  16  19  28  30  42  46  48  50  52  56  57  77  78  81  86\n",
      "  87 102 104 117 121 133 136 138 139 140 145 151 153 157 158 161 168 176\n",
      " 181 184 189 197]\n"
     ]
    }
   ],
   "source": [
    "train_index = np.random.choice(len(grouped_list), size=160, replace=False)\n",
    "test_index = np.setdiff1d(list(range(200)), train_index)\n",
    "print train_index\n",
    "print test_index"
   ]
  },
  {
   "cell_type": "code",
   "execution_count": 10,
   "metadata": {},
   "outputs": [
    {
     "data": {
      "text/plain": [
       "(160, 40)"
      ]
     },
     "execution_count": 10,
     "metadata": {},
     "output_type": "execute_result"
    }
   ],
   "source": [
    "len(train_index), len(test_index)"
   ]
  },
  {
   "cell_type": "code",
   "execution_count": 10,
   "metadata": {},
   "outputs": [],
   "source": [
    "# take first 200 files\n",
    "train = pd.concat([grouped_list[i] for i in train_index])\n",
    "test = pd.concat([grouped_list[i] for i in test_index])"
   ]
  },
  {
   "cell_type": "code",
   "execution_count": 11,
   "metadata": {},
   "outputs": [
    {
     "data": {
      "text/plain": [
       "(176, 41)"
      ]
     },
     "execution_count": 11,
     "metadata": {},
     "output_type": "execute_result"
    }
   ],
   "source": [
    "len(train), len(test)"
   ]
  },
  {
   "cell_type": "code",
   "execution_count": 12,
   "metadata": {},
   "outputs": [],
   "source": [
    "train.to_csv('train_labels.csv', index=None)\n",
    "test.to_csv('test_labels.csv', index=None)"
   ]
  },
  {
   "cell_type": "code",
   "execution_count": null,
   "metadata": {
    "collapsed": true
   },
   "outputs": [],
   "source": []
  }
 ],
 "metadata": {
  "kernelspec": {
   "display_name": "Python 2",
   "language": "python",
   "name": "python2"
  },
  "language_info": {
   "codemirror_mode": {
    "name": "ipython",
    "version": 2
   },
   "file_extension": ".py",
   "mimetype": "text/x-python",
   "name": "python",
   "nbconvert_exporter": "python",
   "pygments_lexer": "ipython2",
   "version": "2.7.12"
  },
  "widgets": {
   "state": {},
   "version": "1.1.2"
  }
 },
 "nbformat": 4,
 "nbformat_minor": 1
}
